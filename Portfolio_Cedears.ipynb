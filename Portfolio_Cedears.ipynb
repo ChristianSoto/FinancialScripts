{
  "nbformat": 4,
  "nbformat_minor": 0,
  "metadata": {
    "colab": {
      "name": "Portfolio_Cedears",
      "provenance": [],
      "collapsed_sections": [],
      "authorship_tag": "ABX9TyNcTatigpP+nAoc8EDoXSyS"
    },
    "kernelspec": {
      "name": "python3",
      "display_name": "Python 3"
    },
    "language_info": {
      "name": "python"
    }
  },
  "cells": [
    {
      "cell_type": "code",
      "metadata": {
        "colab": {
          "base_uri": "https://localhost:8080/"
        },
        "id": "qo88Gw46Cbum",
        "outputId": "c004b081-1003-46a7-cf1c-2160696269ce"
      },
      "source": [
        "!pip install quantstats\n",
        "!pip install PyPortfolioOpt"
      ],
      "execution_count": null,
      "outputs": [
        {
          "output_type": "stream",
          "name": "stdout",
          "text": [
            "Requirement already satisfied: quantstats in /usr/local/lib/python3.7/dist-packages (0.0.43)\n",
            "Requirement already satisfied: tabulate>=0.8.0 in /usr/local/lib/python3.7/dist-packages (from quantstats) (0.8.9)\n",
            "Requirement already satisfied: seaborn>=0.9.0 in /usr/local/lib/python3.7/dist-packages (from quantstats) (0.11.2)\n",
            "Requirement already satisfied: yfinance>=0.1.63 in /usr/local/lib/python3.7/dist-packages (from quantstats) (0.1.64)\n",
            "Requirement already satisfied: numpy>=1.16.5 in /usr/local/lib/python3.7/dist-packages (from quantstats) (1.19.5)\n",
            "Requirement already satisfied: pandas>=0.24.0 in /usr/local/lib/python3.7/dist-packages (from quantstats) (1.1.5)\n",
            "Requirement already satisfied: matplotlib>=3.0.0 in /usr/local/lib/python3.7/dist-packages (from quantstats) (3.2.2)\n",
            "Requirement already satisfied: scipy>=1.2.0 in /usr/local/lib/python3.7/dist-packages (from quantstats) (1.4.1)\n",
            "Requirement already satisfied: cycler>=0.10 in /usr/local/lib/python3.7/dist-packages (from matplotlib>=3.0.0->quantstats) (0.10.0)\n",
            "Requirement already satisfied: pyparsing!=2.0.4,!=2.1.2,!=2.1.6,>=2.0.1 in /usr/local/lib/python3.7/dist-packages (from matplotlib>=3.0.0->quantstats) (2.4.7)\n",
            "Requirement already satisfied: kiwisolver>=1.0.1 in /usr/local/lib/python3.7/dist-packages (from matplotlib>=3.0.0->quantstats) (1.3.2)\n",
            "Requirement already satisfied: python-dateutil>=2.1 in /usr/local/lib/python3.7/dist-packages (from matplotlib>=3.0.0->quantstats) (2.8.2)\n",
            "Requirement already satisfied: six in /usr/local/lib/python3.7/dist-packages (from cycler>=0.10->matplotlib>=3.0.0->quantstats) (1.15.0)\n",
            "Requirement already satisfied: pytz>=2017.2 in /usr/local/lib/python3.7/dist-packages (from pandas>=0.24.0->quantstats) (2018.9)\n",
            "Requirement already satisfied: requests>=2.20 in /usr/local/lib/python3.7/dist-packages (from yfinance>=0.1.63->quantstats) (2.23.0)\n",
            "Requirement already satisfied: lxml>=4.5.1 in /usr/local/lib/python3.7/dist-packages (from yfinance>=0.1.63->quantstats) (4.6.3)\n",
            "Requirement already satisfied: multitasking>=0.0.7 in /usr/local/lib/python3.7/dist-packages (from yfinance>=0.1.63->quantstats) (0.0.9)\n",
            "Requirement already satisfied: idna<3,>=2.5 in /usr/local/lib/python3.7/dist-packages (from requests>=2.20->yfinance>=0.1.63->quantstats) (2.10)\n",
            "Requirement already satisfied: urllib3!=1.25.0,!=1.25.1,<1.26,>=1.21.1 in /usr/local/lib/python3.7/dist-packages (from requests>=2.20->yfinance>=0.1.63->quantstats) (1.24.3)\n",
            "Requirement already satisfied: certifi>=2017.4.17 in /usr/local/lib/python3.7/dist-packages (from requests>=2.20->yfinance>=0.1.63->quantstats) (2021.5.30)\n",
            "Requirement already satisfied: chardet<4,>=3.0.2 in /usr/local/lib/python3.7/dist-packages (from requests>=2.20->yfinance>=0.1.63->quantstats) (3.0.4)\n",
            "Requirement already satisfied: PyPortfolioOpt in /usr/local/lib/python3.7/dist-packages (1.5.1)\n",
            "Requirement already satisfied: numpy<2.0,>=1.12 in /usr/local/lib/python3.7/dist-packages (from PyPortfolioOpt) (1.19.5)\n",
            "Requirement already satisfied: cvxpy<2.0.0,>=1.1.10 in /usr/local/lib/python3.7/dist-packages (from PyPortfolioOpt) (1.1.15)\n",
            "Requirement already satisfied: scipy<2.0,>=1.3 in /usr/local/lib/python3.7/dist-packages (from PyPortfolioOpt) (1.4.1)\n",
            "Requirement already satisfied: pandas>=0.19 in /usr/local/lib/python3.7/dist-packages (from PyPortfolioOpt) (1.1.5)\n",
            "Requirement already satisfied: osqp>=0.4.1 in /usr/local/lib/python3.7/dist-packages (from cvxpy<2.0.0,>=1.1.10->PyPortfolioOpt) (0.6.2.post0)\n",
            "Requirement already satisfied: scs>=1.1.6 in /usr/local/lib/python3.7/dist-packages (from cvxpy<2.0.0,>=1.1.10->PyPortfolioOpt) (2.1.4)\n",
            "Requirement already satisfied: ecos>=2 in /usr/local/lib/python3.7/dist-packages (from cvxpy<2.0.0,>=1.1.10->PyPortfolioOpt) (2.0.7.post1)\n",
            "Requirement already satisfied: qdldl in /usr/local/lib/python3.7/dist-packages (from osqp>=0.4.1->cvxpy<2.0.0,>=1.1.10->PyPortfolioOpt) (0.1.5.post0)\n",
            "Requirement already satisfied: python-dateutil>=2.7.3 in /usr/local/lib/python3.7/dist-packages (from pandas>=0.19->PyPortfolioOpt) (2.8.2)\n",
            "Requirement already satisfied: pytz>=2017.2 in /usr/local/lib/python3.7/dist-packages (from pandas>=0.19->PyPortfolioOpt) (2018.9)\n",
            "Requirement already satisfied: six>=1.5 in /usr/local/lib/python3.7/dist-packages (from python-dateutil>=2.7.3->pandas>=0.19->PyPortfolioOpt) (1.15.0)\n"
          ]
        }
      ]
    },
    {
      "cell_type": "code",
      "metadata": {
        "id": "jjsAyRy6w4SD"
      },
      "source": [
        "import numpy as np\n",
        "import pandas as pd\n",
        "import math\n",
        "import matplotlib.pyplot as plt\n",
        "from pandas_datareader import data as wb\n",
        "import seaborn as sb\n",
        "import quantstats as qs\n",
        "from pypfopt.efficient_frontier import EfficientFrontier\n",
        "from pypfopt import risk_models\n",
        "from pypfopt import expected_returns\n",
        "from pypfopt import plotting\n",
        "from pypfopt import objective_functions\n",
        "from pypfopt.base_optimizer import BaseConvexOptimizer\n",
        "from pypfopt import DiscreteAllocation\n",
        "from datetime import date\n",
        "import requests\n",
        "import ssl\n",
        "ssl._create_default_https_context = ssl._create_unverified_context"
      ],
      "execution_count": null,
      "outputs": []
    },
    {
      "cell_type": "code",
      "metadata": {
        "id": "2naz06zGvinF"
      },
      "source": [
        "#The following lines fix a recent DataReader problem for yahoo finance\n",
        "USER_AGENT = {\n",
        "    'User-Agent': ('Mozilla/5.0 (Windows NT 10.0; Win64; x64) AppleWebKit/537.36 (KHTML, like Gecko)'\n",
        "                   ' Chrome/91.0.4472.124 Safari/537.36')\n",
        "    }\n",
        "sesh = requests.Session()\n",
        "sesh.headers.update(USER_AGENT)\n"
      ],
      "execution_count": null,
      "outputs": []
    },
    {
      "cell_type": "markdown",
      "metadata": {
        "id": "dk1mmhBqGBO2"
      },
      "source": [
        "###Some functions"
      ]
    },
    {
      "cell_type": "code",
      "metadata": {
        "id": "xelHjPDgx8y-"
      },
      "source": [
        "def get_stock(stocks):\n",
        "  pf=pd.DataFrame()\n",
        "  for element in stocks:\n",
        "    pf[element]= wb.DataReader(element,data_source='yahoo',session=sesh)['Adj Close']\n",
        "  return pf\n",
        "\n",
        "def last_price(stocks):\n",
        "  pf=pd.DataFrame()\n",
        "  for element in stocks:\n",
        "    pf[element]=wb.DataReader(element,data_source='yahoo',session=sesh)['Adj Close']\n",
        "  pf=pf.iloc[-1]\n",
        "  return pf\n",
        "\n",
        "def pct_returns(stocks):\n",
        "  change= stocks.pct_change()\n",
        "  return change.dropna()\n",
        "\n",
        "def pct_ret_log(stocks):\n",
        "  change= np.log(stocks/stocks.shift(1))\n",
        "  return change.dropna()\n",
        "\n",
        "def port_w(lista):\n",
        "  media= expected_returns.mean_historical_return(lista)\n",
        "  cov= risk_models.risk_matrix(lista, method='sample_cov')\n",
        "  ef=EfficientFrontier(media,cov)\n",
        "  vol=float(input('Máxima volatilidad histórica del portfolio: '))\n",
        "  return plotting.plot_weights(ef.efficient_risk(vol))"
      ],
      "execution_count": null,
      "outputs": []
    },
    {
      "cell_type": "code",
      "metadata": {
        "id": "IK5kxQAhGPAV"
      },
      "source": [
        "#Stocks ordered by sector 'NVDA' 'AMD' 'GOLD' \n",
        "tech= ['MSFT','V','GOOGL','MELI','FB','AMZN','T','VZ','DIS','AAPL','ADBE','INTC']\n",
        "industrial=['GE','TM','JNJ','HD','X','KO','WMT','PG','PFE','BA','DE','CAT','LMT','VALE','MRK','WBA','UNH','AVY']\n",
        "financial=['GS','C','JPM','V','WFC']\n",
        "commodities=['XOM','CVX','AGRO','VIST','HAL','TS','RIO']\n",
        "growth=['SHOP','BABA','CRM']\n",
        "a_stocks= tech+industrial+commodities+financial+growth\n",
        "a_stocks.sort()\n",
        "#Collecting price history and returns\n",
        "l_stocks=get_stock(a_stocks)\n",
        "pct_stocks=pct_ret_log(l_stocks)"
      ],
      "execution_count": null,
      "outputs": []
    },
    {
      "cell_type": "code",
      "metadata": {
        "colab": {
          "base_uri": "https://localhost:8080/",
          "height": 451
        },
        "id": "g_aaim-yHzwF",
        "outputId": "cf74388f-bfcf-4eb6-c821-494f06a81a4c"
      },
      "source": [
        "#Set min and max value per sector\n",
        "sector_mapper=dict()\n",
        "\n",
        "for stock in a_stocks:\n",
        "  if stock in tech:\n",
        "    sector_mapper.update({stock:'tech'})\n",
        "  elif stock in industrial:\n",
        "    sector_mapper.update({stock:'industrial'})\n",
        "  elif stock in commodities:\n",
        "    sector_mapper.update({stock:'commodities'})\n",
        "  elif stock in financial:\n",
        "    sector_mapper.update({stock:'financial'})\n",
        "  elif stock in growth:\n",
        "    sector_mapper.update({stock:'growth'})\n",
        "\n",
        "sector_lower={'tech':0.10,'industrial':0.10,'commodities':0.10,'financial':0.10}\n",
        "sector_upper={'tech':0.5,'industrial':0.4, 'commodities':0.4,'financial':0.4,'growth':0.05}\n",
        "\n",
        "#Creating EfficientFrontier\n",
        "media= expected_returns.mean_historical_return(l_stocks)\n",
        "cov= risk_models.risk_matrix(l_stocks, method='sample_cov')\n",
        "ef=EfficientFrontier(media,cov)\n",
        "BaseConvexOptimizer.add_sector_constraints(ef,sector_mapper,sector_lower,sector_upper)\n",
        "#If u want to diversify some more, just uncomment the following line\n",
        "#ef.add_objective(objective_functions.L2_reg, gamma=0.1)\n",
        "\n",
        "#For max sharpe\n",
        "plotting.plot_weights(ef.max_sharpe())\n",
        "\n",
        "#For an specific level of volatility, for example, 20%\n",
        "#plotting.plot_weights(ef.efficient_risk(0.2))"
      ],
      "execution_count": null,
      "outputs": [
        {
          "output_type": "execute_result",
          "data": {
            "text/plain": [
              "<matplotlib.axes._subplots.AxesSubplot at 0x7f947172d210>"
            ]
          },
          "metadata": {},
          "execution_count": 7
        },
        {
          "output_type": "display_data",
          "data": {
            "image/png": "[encoded data removed]",
            "text/plain": [
              "<Figure size 720x432 with 1 Axes>"
            ]
          },
          "metadata": {}
        }
      ]
    },
    {
      "cell_type": "code",
      "metadata": {
        "colab": {
          "base_uri": "https://localhost:8080/"
        },
        "id": "LEyYCxewI6lY",
        "outputId": "385b9ac9-305e-4fc6-aaea-32005f681fd7"
      },
      "source": [
        "##Return, volatility and sharpe ratio\n",
        "ef.portfolio_performance(verbose=True)"
      ],
      "execution_count": null,
      "outputs": [
        {
          "output_type": "stream",
          "name": "stdout",
          "text": [
            "Expected annual return: 38.6%\n",
            "Annual volatility: 22.7%\n",
            "Sharpe Ratio: 1.61\n"
          ]
        },
        {
          "output_type": "execute_result",
          "data": {
            "text/plain": [
              "(0.3855810755466286, 0.22679466014140637, 1.6119474564290401)"
            ]
          },
          "metadata": {},
          "execution_count": 8
        }
      ]
    },
    {
      "cell_type": "code",
      "metadata": {
        "colab": {
          "base_uri": "https://localhost:8080/"
        },
        "id": "pHDfzvaRxBfk",
        "outputId": "685a03a9-9ebf-49e1-9e4e-7725d075647a"
      },
      "source": [
        "#Weights of optimized portfolio, per stock (%)\n",
        "w=dict(ef.clean_weights())\n",
        "\n",
        "weights_def=dict()\n",
        "\n",
        "for key,value in w.items():\n",
        "  if value>0.001:\n",
        "    weights_def.update({key:value})\n",
        "\n",
        "weights_def\n"
      ],
      "execution_count": null,
      "outputs": [
        {
          "output_type": "execute_result",
          "data": {
            "text/plain": [
              "{'AAPL': 0.0983,\n",
              " 'ADBE': 0.02072,\n",
              " 'DE': 0.11264,\n",
              " 'JPM': 0.1,\n",
              " 'MELI': 0.1241,\n",
              " 'MSFT': 0.25688,\n",
              " 'RIO': 0.1,\n",
              " 'SHOP': 0.05,\n",
              " 'WMT': 0.13736}"
            ]
          },
          "metadata": {},
          "execution_count": 9
        }
      ]
    },
    {
      "cell_type": "code",
      "metadata": {
        "colab": {
          "base_uri": "https://localhost:8080/",
          "height": 80
        },
        "id": "gNDZX8i5ZxGr",
        "outputId": "a9fa3c7e-8c9d-4398-d11c-741863c23f3c"
      },
      "source": [
        "weights_pt=dict()\n",
        "for key,value in weights_def.items():\n",
        "  weights_pt.update({key:round(value*100,2)})\n",
        "\n",
        "weights_percent=pd.DataFrame(weights_pt, index=['% de cartera'])\n",
        "weights_percent\n",
        "\n"
      ],
      "execution_count": null,
      "outputs": [
        {
          "output_type": "execute_result",
          "data": {
            "text/html": [
              "<div>\n",
              "<style scoped>\n",
              "    .dataframe tbody tr th:only-of-type {\n",
              "        vertical-align: middle;\n",
              "    }\n",
              "\n",
              "    .dataframe tbody tr th {\n",
              "        vertical-align: top;\n",
              "    }\n",
              "\n",
              "    .dataframe thead th {\n",
              "        text-align: right;\n",
              "    }\n",
              "</style>\n",
              "<table border=\"1\" class=\"dataframe\">\n",
              "  <thead>\n",
              "    <tr style=\"text-align: right;\">\n",
              "      <th></th>\n",
              "      <th>AAPL</th>\n",
              "      <th>ADBE</th>\n",
              "      <th>DE</th>\n",
              "      <th>JPM</th>\n",
              "      <th>MELI</th>\n",
              "      <th>MSFT</th>\n",
              "      <th>RIO</th>\n",
              "      <th>SHOP</th>\n",
              "      <th>WMT</th>\n",
              "    </tr>\n",
              "  </thead>\n",
              "  <tbody>\n",
              "    <tr>\n",
              "      <th>% de cartera</th>\n",
              "      <td>9.83</td>\n",
              "      <td>2.07</td>\n",
              "      <td>11.26</td>\n",
              "      <td>10.0</td>\n",
              "      <td>12.41</td>\n",
              "      <td>25.69</td>\n",
              "      <td>10.0</td>\n",
              "      <td>5.0</td>\n",
              "      <td>13.74</td>\n",
              "    </tr>\n",
              "  </tbody>\n",
              "</table>\n",
              "</div>"
            ],
            "text/plain": [
              "              AAPL  ADBE     DE   JPM   MELI   MSFT   RIO  SHOP    WMT\n",
              "% de cartera  9.83  2.07  11.26  10.0  12.41  25.69  10.0   5.0  13.74"
            ]
          },
          "metadata": {},
          "execution_count": 10
        }
      ]
    },
    {
      "cell_type": "code",
      "metadata": {
        "colab": {
          "base_uri": "https://localhost:8080/",
          "height": 450
        },
        "id": "zAf1vO9en64z",
        "outputId": "56c627e2-161d-4a12-896a-de1bd3670f79"
      },
      "source": [
        "#Taking cedears from comafi's page in order to extract the ratios between USA stock's and argy's cedears\n",
        "url= 'https://www.comafi.com.ar/Multimedios/otros/7279.xlsx'\n",
        "cedears= pd.read_excel(url,header=15,usecols='C,H')\n",
        "#cedears.columns=cedears.columns.str.replace(' ','')\n",
        "cedears.dropna(inplace=True)\n",
        "cedears=cedears.applymap((lambda x: \"\".join(x.split()) if type(x) is str else x ))\n",
        "cedears.set_index('Identificación Mercado', inplace=True)\n",
        "cedears"
      ],
      "execution_count": null,
      "outputs": [
        {
          "output_type": "execute_result",
          "data": {
            "text/html": [
              "<div>\n",
              "<style scoped>\n",
              "    .dataframe tbody tr th:only-of-type {\n",
              "        vertical-align: middle;\n",
              "    }\n",
              "\n",
              "    .dataframe tbody tr th {\n",
              "        vertical-align: top;\n",
              "    }\n",
              "\n",
              "    .dataframe thead th {\n",
              "        text-align: right;\n",
              "    }\n",
              "</style>\n",
              "<table border=\"1\" class=\"dataframe\">\n",
              "  <thead>\n",
              "    <tr style=\"text-align: right;\">\n",
              "      <th></th>\n",
              "      <th>Ratio Cedear/Acción ó ADR</th>\n",
              "    </tr>\n",
              "    <tr>\n",
              "      <th>Identificación Mercado</th>\n",
              "      <th></th>\n",
              "    </tr>\n",
              "  </thead>\n",
              "  <tbody>\n",
              "    <tr>\n",
              "      <th>ABT</th>\n",
              "      <td>4:1</td>\n",
              "    </tr>\n",
              "    <tr>\n",
              "      <th>HWM</th>\n",
              "      <td>1:1</td>\n",
              "    </tr>\n",
              "    <tr>\n",
              "      <th>AEG</th>\n",
              "      <td>1:1</td>\n",
              "    </tr>\n",
              "    <tr>\n",
              "      <th>MO</th>\n",
              "      <td>4:1</td>\n",
              "    </tr>\n",
              "    <tr>\n",
              "      <th>ACH</th>\n",
              "      <td>1:1</td>\n",
              "    </tr>\n",
              "    <tr>\n",
              "      <th>...</th>\n",
              "      <td>...</td>\n",
              "    </tr>\n",
              "    <tr>\n",
              "      <th>EFX</th>\n",
              "      <td>16:1</td>\n",
              "    </tr>\n",
              "    <tr>\n",
              "      <th>SQ</th>\n",
              "      <td>20:1</td>\n",
              "    </tr>\n",
              "    <tr>\n",
              "      <th>SHOP</th>\n",
              "      <td>107:1</td>\n",
              "    </tr>\n",
              "    <tr>\n",
              "      <th>SPOT</th>\n",
              "      <td>28:1</td>\n",
              "    </tr>\n",
              "    <tr>\n",
              "      <th>SNOW</th>\n",
              "      <td>30:1</td>\n",
              "    </tr>\n",
              "  </tbody>\n",
              "</table>\n",
              "<p>259 rows × 1 columns</p>\n",
              "</div>"
            ],
            "text/plain": [
              "                       Ratio Cedear/Acción ó ADR\n",
              "Identificación Mercado                          \n",
              "ABT                                          4:1\n",
              "HWM                                          1:1\n",
              "AEG                                          1:1\n",
              "MO                                           4:1\n",
              "ACH                                          1:1\n",
              "...                                          ...\n",
              "EFX                                         16:1\n",
              "SQ                                          20:1\n",
              "SHOP                                       107:1\n",
              "SPOT                                        28:1\n",
              "SNOW                                        30:1\n",
              "\n",
              "[259 rows x 1 columns]"
            ]
          },
          "metadata": {},
          "execution_count": 11
        }
      ]
    },
    {
      "cell_type": "code",
      "metadata": {
        "colab": {
          "base_uri": "https://localhost:8080/"
        },
        "id": "-xSlpFuXVSK8",
        "outputId": "460c3342-9db1-466c-e171-c604fdb736c7"
      },
      "source": [
        "ratios=dict()\n",
        "for key,value in weights_def.items():\n",
        "  ratios.update({key:cedears.loc[key][0][:-2]})\n",
        "ratios"
      ],
      "execution_count": null,
      "outputs": [
        {
          "output_type": "execute_result",
          "data": {
            "text/plain": [
              "{'AAPL': '10',\n",
              " 'ADBE': '22',\n",
              " 'DE': '10',\n",
              " 'JPM': '5',\n",
              " 'MELI': '60',\n",
              " 'MSFT': '10',\n",
              " 'RIO': '4',\n",
              " 'SHOP': '107',\n",
              " 'WMT': '6'}"
            ]
          },
          "metadata": {},
          "execution_count": 12
        }
      ]
    },
    {
      "cell_type": "code",
      "metadata": {
        "colab": {
          "base_uri": "https://localhost:8080/"
        },
        "id": "f_IV_D6VxxHX",
        "outputId": "4a18db52-03a9-45c6-e5a3-078bd8760857"
      },
      "source": [
        "for key,value in ratios.items():\n",
        "  ratios.update({key:float(value)})\n",
        "\n",
        "ratios"
      ],
      "execution_count": null,
      "outputs": [
        {
          "output_type": "execute_result",
          "data": {
            "text/plain": [
              "{'AAPL': 10.0,\n",
              " 'ADBE': 22.0,\n",
              " 'DE': 10.0,\n",
              " 'JPM': 5.0,\n",
              " 'MELI': 60.0,\n",
              " 'MSFT': 10.0,\n",
              " 'RIO': 4.0,\n",
              " 'SHOP': 107.0,\n",
              " 'WMT': 6.0}"
            ]
          },
          "metadata": {},
          "execution_count": 13
        }
      ]
    },
    {
      "cell_type": "code",
      "metadata": {
        "id": "rQWY37lgWILy",
        "colab": {
          "base_uri": "https://localhost:8080/"
        },
        "outputId": "5a43713e-9131-4223-fa6b-dd35b4728107"
      },
      "source": [
        "prices=last_price(a_stocks)\n",
        "prices['AMZN']"
      ],
      "execution_count": null,
      "outputs": [
        {
          "output_type": "execute_result",
          "data": {
            "text/plain": [
              "3436.159912109375"
            ]
          },
          "metadata": {},
          "execution_count": 14
        }
      ]
    },
    {
      "cell_type": "code",
      "metadata": {
        "colab": {
          "base_uri": "https://localhost:8080/"
        },
        "id": "cHW7TWKmSmBb",
        "outputId": "ecb650a7-bccd-41df-e76f-579692e66293"
      },
      "source": [
        "#Calculating price per share (USD) based on argentinian's cedears ratio\n",
        "usd_cedear=dict()\n",
        "for key,value in ratios.items():\n",
        "  usd_cedear.update({key:round(prices[key]/value,2)})\n",
        "\n",
        "usd_cedear\n"
      ],
      "execution_count": null,
      "outputs": [
        {
          "output_type": "execute_result",
          "data": {
            "text/plain": [
              "{'AAPL': 14.94,\n",
              " 'ADBE': 29.0,\n",
              " 'DE': 34.37,\n",
              " 'JPM': 33.9,\n",
              " 'MELI': 26.58,\n",
              " 'MSFT': 30.91,\n",
              " 'RIO': 16.35,\n",
              " 'SHOP': 13.9,\n",
              " 'WMT': 24.36}"
            ]
          },
          "metadata": {},
          "execution_count": 15
        }
      ]
    },
    {
      "cell_type": "code",
      "metadata": {
        "colab": {
          "base_uri": "https://localhost:8080/"
        },
        "id": "x0UqY3OPZdda",
        "outputId": "e2087755-0e30-4c74-9b96-7611b17dacbc"
      },
      "source": [
        "#Calculates number of shares based on weight and money\n",
        "#IMPORTANT: Take care of spread between MEP and CCL values. The capital needed could be a little bit higher than expected\n",
        "shares=dict()\n",
        "capital=float(input('Capital a invertir(USD): '))\n",
        "for key,value in weights_def.items():\n",
        "  if key in usd_cedear:\n",
        "    a=capital/usd_cedear[key]*weights_def[key]\n",
        "    shares.update({key:round(a,0)})\n",
        "\n",
        "print(f'\\nCantidad de stocks a comprar para el armado de la cartera: \\n')\n",
        "for key,value in shares.items():\n",
        "  print(key,'-->',int(value))"
      ],
      "execution_count": null,
      "outputs": [
        {
          "output_type": "stream",
          "name": "stdout",
          "text": [
            "Capital a invertir(USD): 30000\n",
            "\n",
            "Cantidad de stocks a comprar para el armado de la cartera: \n",
            "\n",
            "AAPL --> 197\n",
            "ADBE --> 21\n",
            "DE --> 98\n",
            "JPM --> 88\n",
            "MELI --> 140\n",
            "MSFT --> 249\n",
            "RIO --> 183\n",
            "SHOP --> 108\n",
            "WMT --> 169\n"
          ]
        }
      ]
    },
    {
      "cell_type": "code",
      "metadata": {
        "colab": {
          "base_uri": "https://localhost:8080/"
        },
        "id": "b-HuLHRbRzvE",
        "outputId": "c287cd8b-4faa-413b-e4e1-59b5e08279d2"
      },
      "source": [
        "#Import last prices for argentinian cedears (ARS).\n",
        "cedears = list()\n",
        "for stock in a_stocks:\n",
        "  cedears.append(stock+'.BA')\n",
        "\n",
        "cedears[2]='GOOGL.BA'\n",
        "#cedears\n",
        "cedears=last_price(cedears)\n",
        "cedears\n",
        "\n"
      ],
      "execution_count": null,
      "outputs": [
        {
          "output_type": "execute_result",
          "data": {
            "text/plain": [
              "MSFT.BA      4193.0\n",
              "V.BA         6425.5\n",
              "GOOGL.BA     6871.0\n",
              "AMD.BA      26569.5\n",
              "MELI.BA      3642.0\n",
              "FB.BA        6845.0\n",
              "AMZN.BA      3763.5\n",
              "GE.BA        2266.5\n",
              "TM.BA        6012.5\n",
              "T.BA         1609.5\n",
              "JNJ.BA       5495.5\n",
              "HD.BA        6380.5\n",
              "X.BA         1501.0\n",
              "KO.BA        1847.5\n",
              "WMT.BA       3843.0\n",
              "VZ.BA        4749.5\n",
              "PG.BA        4488.5\n",
              "PFE.BA       3307.0\n",
              "GOLD.BA      3828.5\n",
              "XOM.BA       2077.5\n",
              "HMY.BA        783.0\n",
              "TOT.BA       2685.0\n",
              "CVX.BA       2232.0\n",
              "AGRO.BA        27.5\n",
              "Name: 2021-06-09 00:00:00, dtype: float64"
            ]
          },
          "metadata": {
            "tags": []
          },
          "execution_count": 32
        }
      ]
    }
  ]
}